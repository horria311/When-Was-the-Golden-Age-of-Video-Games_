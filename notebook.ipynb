{
  "cells": [
    {
      "cell_type": "markdown",
      "metadata": {
        "id": "view-in-github",
        "colab_type": "text"
      },
      "source": [
        "<a href=\"https://colab.research.google.com/github/horria311/When-Was-the-Golden-Age-of-Video-Games_/blob/main/notebook.ipynb\" target=\"_parent\"><img src=\"https://colab.research.google.com/assets/colab-badge.svg\" alt=\"Open In Colab\"/></a>"
      ]
    },
    {
      "metadata": {
        "dc": {
          "key": "7"
        },
        "deletable": false,
        "editable": false,
        "run_control": {
          "frozen": true
        },
        "tags": [
          "context"
        ],
        "id": "79xqzrXLitSr"
      },
      "cell_type": "markdown",
      "source": [
        "## 1. The ten best-selling video games\n",
        "<p><img src=\"https://assets.datacamp.com/production/project_1413/img/video_game.jpg\" alt=\"A video game player choosing a game to play on Nintendo Switch.\" width=\"400\"></p>\n",
        "<p>Photo by <a href=\"https://unsplash.com/@retromoon\">Dan Schleusser</a> on <a href=\"https://unsplash.com\">Unsplash</a>.</p>\n",
        "<p>Video games are big business: the global gaming market is projected to be worth more than $300 billion by 2027 according to <a href=\"https://www.mordorintelligence.com/industry-reports/global-gaming-market\">Mordor Intelligence</a>. With so much money at stake, the major game publishers are hugely incentivized to create the next big hit. But are games getting better, or has the golden age of video games already passed?</p>\n",
        "<p>In this project, we'll explore the top 400 best-selling video games created between 1977 and 2020. We'll compare a dataset on game sales with critic and user reviews to determine whether or not video games have improved as the gaming market has grown.</p>\n",
        "<p>Our database contains two tables. We've limited each table to 400 rows for this project, but you can find the complete dataset with over 13,000 games on <a href=\"https://www.kaggle.com/holmjason2/videogamedata\">Kaggle</a>. </p>\n",
        "<h3 id=\"game_sales\"><code>game_sales</code></h3>\n",
        "<table>\n",
        "<thead>\n",
        "<tr>\n",
        "<th style=\"text-align:left;\">column</th>\n",
        "<th>type</th>\n",
        "<th>meaning</th>\n",
        "</tr>\n",
        "</thead>\n",
        "<tbody>\n",
        "<tr>\n",
        "<td style=\"text-align:left;\"><code>game</code></td>\n",
        "<td>varchar</td>\n",
        "<td>Name of the video game</td>\n",
        "</tr>\n",
        "<tr>\n",
        "<td style=\"text-align:left;\"><code>platform</code></td>\n",
        "<td>varchar</td>\n",
        "<td>Gaming platform</td>\n",
        "</tr>\n",
        "<tr>\n",
        "<td style=\"text-align:left;\"><code>publisher</code></td>\n",
        "<td>varchar</td>\n",
        "<td>Game publisher</td>\n",
        "</tr>\n",
        "<tr>\n",
        "<td style=\"text-align:left;\"><code>developer</code></td>\n",
        "<td>varchar</td>\n",
        "<td>Game developer</td>\n",
        "</tr>\n",
        "<tr>\n",
        "<td style=\"text-align:left;\"><code>games_sold</code></td>\n",
        "<td>float</td>\n",
        "<td>Number of copies sold (millions)</td>\n",
        "</tr>\n",
        "<tr>\n",
        "<td style=\"text-align:left;\"><code>year</code></td>\n",
        "<td>int</td>\n",
        "<td>Release year</td>\n",
        "</tr>\n",
        "</tbody>\n",
        "</table>\n",
        "<h3 id=\"reviews\"><code>reviews</code></h3>\n",
        "<table>\n",
        "<thead>\n",
        "<tr>\n",
        "<th style=\"text-align:left;\">column</th>\n",
        "<th>type</th>\n",
        "<th>meaning</th>\n",
        "</tr>\n",
        "</thead>\n",
        "<tbody>\n",
        "<tr>\n",
        "<td style=\"text-align:left;\"><code>game</code></td>\n",
        "<td>varchar</td>\n",
        "<td>Name of the video game</td>\n",
        "</tr>\n",
        "<tr>\n",
        "<td style=\"text-align:left;\"><code>critic_score</code></td>\n",
        "<td>float</td>\n",
        "<td>Critic score according to Metacritic</td>\n",
        "</tr>\n",
        "<tr>\n",
        "<td style=\"text-align:left;\"><code>user_score</code></td>\n",
        "<td>float</td>\n",
        "<td>User score according to Metacritic</td>\n",
        "</tr>\n",
        "</tbody>\n",
        "</table>\n",
        "<p>Let's begin by looking at some of the top selling video games of all time!</p>"
      ]
    },
    {
      "metadata": {
        "dc": {
          "key": "7"
        },
        "tags": [
          "sample_code"
        ],
        "trusted": true,
        "id": "wBuVbjP6itSu",
        "outputId": "6c210485-9034-45c1-c703-df62a11c2bde"
      },
      "cell_type": "code",
      "source": [
        "%%sql\n",
        "postgresql:///games\n",
        "\n",
        "-- Select all information for the top ten best-selling games\n",
        "-- Order the results from best-selling game down to tenth best-selling\n",
        "select * from game_sales order by games_sold desc limit 10 ;"
      ],
      "execution_count": null,
      "outputs": [
        {
          "output_type": "stream",
          "text": "10 rows affected.\n",
          "name": "stdout"
        },
        {
          "output_type": "execute_result",
          "execution_count": 248,
          "data": {
            "text/plain": "[('Wii Sports for Wii', 'Wii', 'Nintendo', 'Nintendo EAD', Decimal('82.90'), 2006),\n ('Super Mario Bros. for NES', 'NES', 'Nintendo', 'Nintendo EAD', Decimal('40.24'), 1985),\n ('Counter-Strike: Global Offensive for PC', 'PC', 'Valve', 'Valve Corporation', Decimal('40.00'), 2012),\n ('Mario Kart Wii for Wii', 'Wii', 'Nintendo', 'Nintendo EAD', Decimal('37.32'), 2008),\n (\"PLAYERUNKNOWN'S BATTLEGROUNDS for PC\", 'PC', 'PUBG Corporation', 'PUBG Corporation', Decimal('36.60'), 2017),\n ('Minecraft for PC', 'PC', 'Mojang', 'Mojang AB', Decimal('33.15'), 2010),\n ('Wii Sports Resort for Wii', 'Wii', 'Nintendo', 'Nintendo EAD', Decimal('33.13'), 2009),\n ('Pokemon Red / Green / Blue Version for GB', 'GB', 'Nintendo', 'Game Freak', Decimal('31.38'), 1998),\n ('New Super Mario Bros. for DS', 'DS', 'Nintendo', 'Nintendo EAD', Decimal('30.80'), 2006),\n ('New Super Mario Bros. Wii for Wii', 'Wii', 'Nintendo', 'Nintendo EAD', Decimal('30.30'), 2009)]",
            "text/html": "<table>\n    <thead>\n        <tr>\n            <th>game</th>\n            <th>platform</th>\n            <th>publisher</th>\n            <th>developer</th>\n            <th>games_sold</th>\n            <th>year</th>\n        </tr>\n    </thead>\n    <tbody>\n        <tr>\n            <td>Wii Sports for Wii</td>\n            <td>Wii</td>\n            <td>Nintendo</td>\n            <td>Nintendo EAD</td>\n            <td>82.90</td>\n            <td>2006</td>\n        </tr>\n        <tr>\n            <td>Super Mario Bros. for NES</td>\n            <td>NES</td>\n            <td>Nintendo</td>\n            <td>Nintendo EAD</td>\n            <td>40.24</td>\n            <td>1985</td>\n        </tr>\n        <tr>\n            <td>Counter-Strike: Global Offensive for PC</td>\n            <td>PC</td>\n            <td>Valve</td>\n            <td>Valve Corporation</td>\n            <td>40.00</td>\n            <td>2012</td>\n        </tr>\n        <tr>\n            <td>Mario Kart Wii for Wii</td>\n            <td>Wii</td>\n            <td>Nintendo</td>\n            <td>Nintendo EAD</td>\n            <td>37.32</td>\n            <td>2008</td>\n        </tr>\n        <tr>\n            <td>PLAYERUNKNOWN&#x27;S BATTLEGROUNDS for PC</td>\n            <td>PC</td>\n            <td>PUBG Corporation</td>\n            <td>PUBG Corporation</td>\n            <td>36.60</td>\n            <td>2017</td>\n        </tr>\n        <tr>\n            <td>Minecraft for PC</td>\n            <td>PC</td>\n            <td>Mojang</td>\n            <td>Mojang AB</td>\n            <td>33.15</td>\n            <td>2010</td>\n        </tr>\n        <tr>\n            <td>Wii Sports Resort for Wii</td>\n            <td>Wii</td>\n            <td>Nintendo</td>\n            <td>Nintendo EAD</td>\n            <td>33.13</td>\n            <td>2009</td>\n        </tr>\n        <tr>\n            <td>Pokemon Red / Green / Blue Version for GB</td>\n            <td>GB</td>\n            <td>Nintendo</td>\n            <td>Game Freak</td>\n            <td>31.38</td>\n            <td>1998</td>\n        </tr>\n        <tr>\n            <td>New Super Mario Bros. for DS</td>\n            <td>DS</td>\n            <td>Nintendo</td>\n            <td>Nintendo EAD</td>\n            <td>30.80</td>\n            <td>2006</td>\n        </tr>\n        <tr>\n            <td>New Super Mario Bros. Wii for Wii</td>\n            <td>Wii</td>\n            <td>Nintendo</td>\n            <td>Nintendo EAD</td>\n            <td>30.30</td>\n            <td>2009</td>\n        </tr>\n    </tbody>\n</table>"
          },
          "metadata": {}
        }
      ]
    },
    {
      "metadata": {
        "dc": {
          "key": "14"
        },
        "deletable": false,
        "editable": false,
        "run_control": {
          "frozen": true
        },
        "tags": [
          "context"
        ],
        "id": "l1oB-gmkitSv"
      },
      "cell_type": "markdown",
      "source": [
        "## 2. Missing review scores\n",
        "<p>Wow, the best-selling video games were released between 1985 to 2017! That's quite a range; we'll have to use data from the <code>reviews</code> table to gain more insight on the best years for video games. </p>\n",
        "<p>First, it's important to explore the limitations of our database. One big shortcoming is that there is not any <code>reviews</code> data for some of the games on the <code>game_sales</code> table. </p>"
      ]
    },
    {
      "metadata": {
        "dc": {
          "key": "14"
        },
        "tags": [
          "sample_code"
        ],
        "trusted": true,
        "id": "pa7--3dSitSw",
        "outputId": "e876e7a6-3aac-4152-d3be-afd22badf135"
      },
      "cell_type": "code",
      "source": [
        "%%sql \n",
        "\n",
        "-- Join games_sales and reviews\n",
        "-- Select a count of the number of games where both critic_score and user_score are null\n",
        "select count(*) from reviews\n",
        "right join game_sales\n",
        "on reviews.game =game_sales.game \n",
        " where (reviews.critic_score is null) and (reviews.user_score is null);\n"
      ],
      "execution_count": null,
      "outputs": [
        {
          "output_type": "stream",
          "text": " * postgresql:///games\n1 rows affected.\n",
          "name": "stdout"
        },
        {
          "output_type": "execute_result",
          "execution_count": 250,
          "data": {
            "text/plain": "[(31,)]",
            "text/html": "<table>\n    <thead>\n        <tr>\n            <th>count</th>\n        </tr>\n    </thead>\n    <tbody>\n        <tr>\n            <td>31</td>\n        </tr>\n    </tbody>\n</table>"
          },
          "metadata": {}
        }
      ]
    },
    {
      "metadata": {
        "dc": {
          "key": "21"
        },
        "deletable": false,
        "editable": false,
        "run_control": {
          "frozen": true
        },
        "tags": [
          "context"
        ],
        "id": "CCSZFJ4hitSw"
      },
      "cell_type": "markdown",
      "source": [
        "## 3. Years that video game critics loved\n",
        "<p>It looks like a little less than ten percent of the games on the <code>game_sales</code> table don't have any reviews data. That's a small enough percentage that we can continue our exploration, but the missing reviews data is a good thing to keep in mind as we move on to evaluating results from more sophisticated queries. </p>\n",
        "<p>There are lots of ways to measure the best years for video games! Let's start with what the critics think. </p>"
      ]
    },
    {
      "metadata": {
        "dc": {
          "key": "21"
        },
        "tags": [
          "sample_code"
        ],
        "trusted": true,
        "id": "eP05oquPitSw",
        "outputId": "e2e3da0e-de6c-4ff2-c725-6bd7b883aa20"
      },
      "cell_type": "code",
      "source": [
        "%%sql\n",
        "\n",
        "-- Select release year and average critic score for each year, rounded and aliased\n",
        "-- Join the game_sales and reviews tables\n",
        "-- Group by release year\n",
        "-- Order the data from highest to lowest avg_critic_score and limit to 10 results\n",
        "select game_sales.year, avg(reviews.critic_score) as  avg_critic_score\n",
        "from game_sales\n",
        "inner join reviews\n",
        "on game_sales.game = reviews.game\n",
        "group by game_sales.year \n",
        "order by avg_critic_score desc \n",
        "limit 10;"
      ],
      "execution_count": null,
      "outputs": [
        {
          "output_type": "stream",
          "text": " * postgresql:///games\n10 rows affected.\n",
          "name": "stdout"
        },
        {
          "output_type": "execute_result",
          "execution_count": 252,
          "data": {
            "text/plain": "[(1990, Decimal('9.8000000000000000')),\n (1992, Decimal('9.6666666666666667')),\n (1998, Decimal('9.3200000000000000')),\n (2020, Decimal('9.2000000000000000')),\n (1993, Decimal('9.1000000000000000')),\n (1995, Decimal('9.0666666666666667')),\n (2004, Decimal('9.0272727272727273')),\n (1982, Decimal('9.0000000000000000')),\n (2002, Decimal('8.9888888888888889')),\n (1999, Decimal('8.9272727272727273'))]",
            "text/html": "<table>\n    <thead>\n        <tr>\n            <th>year</th>\n            <th>avg_critic_score</th>\n        </tr>\n    </thead>\n    <tbody>\n        <tr>\n            <td>1990</td>\n            <td>9.8000000000000000</td>\n        </tr>\n        <tr>\n            <td>1992</td>\n            <td>9.6666666666666667</td>\n        </tr>\n        <tr>\n            <td>1998</td>\n            <td>9.3200000000000000</td>\n        </tr>\n        <tr>\n            <td>2020</td>\n            <td>9.2000000000000000</td>\n        </tr>\n        <tr>\n            <td>1993</td>\n            <td>9.1000000000000000</td>\n        </tr>\n        <tr>\n            <td>1995</td>\n            <td>9.0666666666666667</td>\n        </tr>\n        <tr>\n            <td>2004</td>\n            <td>9.0272727272727273</td>\n        </tr>\n        <tr>\n            <td>1982</td>\n            <td>9.0000000000000000</td>\n        </tr>\n        <tr>\n            <td>2002</td>\n            <td>8.9888888888888889</td>\n        </tr>\n        <tr>\n            <td>1999</td>\n            <td>8.9272727272727273</td>\n        </tr>\n    </tbody>\n</table>"
          },
          "metadata": {}
        }
      ]
    },
    {
      "metadata": {
        "dc": {
          "key": "28"
        },
        "deletable": false,
        "editable": false,
        "run_control": {
          "frozen": true
        },
        "tags": [
          "context"
        ],
        "id": "v92x6MIeitSx"
      },
      "cell_type": "markdown",
      "source": [
        "## 4. Was 1982 really that great?\n",
        "<p>The range of great years according to critic reviews goes from 1982 until 2020: we are no closer to finding the golden age of video games! </p>\n",
        "<p>Hang on, though. Some of those <code>avg_critic_score</code> values look like suspiciously round numbers for averages. The value for 1982 looks especially fishy. Maybe there weren't a lot of video games in our dataset that were released in certain years. </p>\n",
        "<p>Let's update our query and find out whether 1982 really was such a great year for video games.</p>"
      ]
    },
    {
      "metadata": {
        "dc": {
          "key": "28"
        },
        "tags": [
          "sample_code"
        ],
        "trusted": true,
        "id": "MmLpkk-iitSx",
        "outputId": "4496ae6e-4c04-4071-f49a-22787b7c29b2"
      },
      "cell_type": "code",
      "source": [
        "%%sql \n",
        "\n",
        "-- Paste your query from the previous task; update it to add a count of games released in each year called num_games\n",
        "-- Update the query so that it only returns years that have more than four reviewed games\n",
        "select game_sales.year,count(game_sales.game) as num_games,\n",
        "avg(reviews.critic_score) as  avg_critic_score\n",
        "from game_sales \n",
        "inner join reviews\n",
        "on game_sales.game = reviews.game\n",
        "group by game_sales.year \n",
        "HAVING count(game_sales.game) >4\n",
        "order by avg_critic_score desc \n",
        "limit 10;"
      ],
      "execution_count": null,
      "outputs": [
        {
          "output_type": "stream",
          "text": " * postgresql:///games\n10 rows affected.\n",
          "name": "stdout"
        },
        {
          "output_type": "execute_result",
          "execution_count": 254,
          "data": {
            "text/plain": "[(1998, 10, Decimal('9.3200000000000000')),\n (2004, 11, Decimal('9.0272727272727273')),\n (2002, 9, Decimal('8.9888888888888889')),\n (1999, 11, Decimal('8.9272727272727273')),\n (2001, 13, Decimal('8.8230769230769231')),\n (2011, 26, Decimal('8.7576923076923077')),\n (2016, 13, Decimal('8.6692307692307692')),\n (2013, 18, Decimal('8.6611111111111111')),\n (2008, 20, Decimal('8.6250000000000000')),\n (2012, 12, Decimal('8.6166666666666667'))]",
            "text/html": "<table>\n    <thead>\n        <tr>\n            <th>year</th>\n            <th>num_games</th>\n            <th>avg_critic_score</th>\n        </tr>\n    </thead>\n    <tbody>\n        <tr>\n            <td>1998</td>\n            <td>10</td>\n            <td>9.3200000000000000</td>\n        </tr>\n        <tr>\n            <td>2004</td>\n            <td>11</td>\n            <td>9.0272727272727273</td>\n        </tr>\n        <tr>\n            <td>2002</td>\n            <td>9</td>\n            <td>8.9888888888888889</td>\n        </tr>\n        <tr>\n            <td>1999</td>\n            <td>11</td>\n            <td>8.9272727272727273</td>\n        </tr>\n        <tr>\n            <td>2001</td>\n            <td>13</td>\n            <td>8.8230769230769231</td>\n        </tr>\n        <tr>\n            <td>2011</td>\n            <td>26</td>\n            <td>8.7576923076923077</td>\n        </tr>\n        <tr>\n            <td>2016</td>\n            <td>13</td>\n            <td>8.6692307692307692</td>\n        </tr>\n        <tr>\n            <td>2013</td>\n            <td>18</td>\n            <td>8.6611111111111111</td>\n        </tr>\n        <tr>\n            <td>2008</td>\n            <td>20</td>\n            <td>8.6250000000000000</td>\n        </tr>\n        <tr>\n            <td>2012</td>\n            <td>12</td>\n            <td>8.6166666666666667</td>\n        </tr>\n    </tbody>\n</table>"
          },
          "metadata": {}
        }
      ]
    },
    {
      "metadata": {
        "dc": {
          "key": "35"
        },
        "deletable": false,
        "editable": false,
        "run_control": {
          "frozen": true
        },
        "tags": [
          "context"
        ],
        "id": "iXvCF4qDitSy"
      },
      "cell_type": "markdown",
      "source": [
        "## 5. Years that dropped off the critics' favorites list\n",
        "<p>That looks better! The <code>num_games</code> column convinces us that our new list of the critics' top games reflects years that had quite a few well-reviewed games rather than just one or two hits. But which years dropped off the list due to having four or fewer reviewed games? Let's identify them so that someday we can track down more game reviews for those years and determine whether they might rightfully be considered as excellent years for video game releases!</p>\n",
        "<p>It's time to brush off your set theory skills. To get started, we've created tables with the results of our previous two queries:</p>\n",
        "<h3 id=\"top_critic_years\"><code>top_critic_years</code></h3>\n",
        "<table>\n",
        "<thead>\n",
        "<tr>\n",
        "<th style=\"text-align:left;\">column</th>\n",
        "<th>type</th>\n",
        "<th>meaning</th>\n",
        "</tr>\n",
        "</thead>\n",
        "<tbody>\n",
        "<tr>\n",
        "<td style=\"text-align:left;\"><code>year</code></td>\n",
        "<td>int</td>\n",
        "<td>Year of video game release</td>\n",
        "</tr>\n",
        "<tr>\n",
        "<td style=\"text-align:left;\"><code>avg_critic_score</code></td>\n",
        "<td>float</td>\n",
        "<td>Average of all critic scores for games released in that year</td>\n",
        "</tr>\n",
        "</tbody>\n",
        "</table>\n",
        "<h3 id=\"top_critic_years_more_than_four_games\"><code>top_critic_years_more_than_four_games</code></h3>\n",
        "<table>\n",
        "<thead>\n",
        "<tr>\n",
        "<th style=\"text-align:left;\">column</th>\n",
        "<th>type</th>\n",
        "<th>meaning</th>\n",
        "</tr>\n",
        "</thead>\n",
        "<tbody>\n",
        "<tr>\n",
        "<td style=\"text-align:left;\"><code>year</code></td>\n",
        "<td>int</td>\n",
        "<td>Year of video game release</td>\n",
        "</tr>\n",
        "<tr>\n",
        "<td style=\"text-align:left;\"><code>num_games</code></td>\n",
        "<td>int</td>\n",
        "<td>Count of the number of video games released in that year</td>\n",
        "</tr>\n",
        "<tr>\n",
        "<td style=\"text-align:left;\"><code>avg_critic_score</code></td>\n",
        "<td>float</td>\n",
        "<td>Average of all critic scores for games released in that year</td>\n",
        "</tr>\n",
        "</tbody>\n",
        "</table>"
      ]
    },
    {
      "metadata": {
        "dc": {
          "key": "35"
        },
        "tags": [
          "sample_code"
        ],
        "trusted": true,
        "id": "EFeeyQ-pitSy",
        "outputId": "9aae90ab-4d74-4d6e-9b37-93380d5cb4f2"
      },
      "cell_type": "code",
      "source": [
        "%%sql \n",
        "\n",
        "-- Select the year and avg_critic_score for those years that dropped off the list of critic favorites \n",
        "-- Order the results from highest to lowest avg_critic_score\n",
        "select * from top_critic_years as t1 \n",
        "except\n",
        "select year , avg_critic_score\n",
        "from top_critic_years_more_than_four_games as t2\n",
        " \n",
        "order by avg_critic_score desc;"
      ],
      "execution_count": null,
      "outputs": [
        {
          "output_type": "stream",
          "text": " * postgresql:///games\n6 rows affected.\n",
          "name": "stdout"
        },
        {
          "output_type": "execute_result",
          "execution_count": 256,
          "data": {
            "text/plain": "[(1990, Decimal('9.80')),\n (1992, Decimal('9.67')),\n (2020, Decimal('9.20')),\n (1993, Decimal('9.10')),\n (1995, Decimal('9.07')),\n (1982, Decimal('9.00'))]",
            "text/html": "<table>\n    <thead>\n        <tr>\n            <th>year</th>\n            <th>avg_critic_score</th>\n        </tr>\n    </thead>\n    <tbody>\n        <tr>\n            <td>1990</td>\n            <td>9.80</td>\n        </tr>\n        <tr>\n            <td>1992</td>\n            <td>9.67</td>\n        </tr>\n        <tr>\n            <td>2020</td>\n            <td>9.20</td>\n        </tr>\n        <tr>\n            <td>1993</td>\n            <td>9.10</td>\n        </tr>\n        <tr>\n            <td>1995</td>\n            <td>9.07</td>\n        </tr>\n        <tr>\n            <td>1982</td>\n            <td>9.00</td>\n        </tr>\n    </tbody>\n</table>"
          },
          "metadata": {}
        }
      ]
    },
    {
      "metadata": {
        "dc": {
          "key": "42"
        },
        "deletable": false,
        "editable": false,
        "run_control": {
          "frozen": true
        },
        "tags": [
          "context"
        ],
        "id": "x_jUBX3MitSy"
      },
      "cell_type": "markdown",
      "source": [
        "## 6. Years video game players loved\n",
        "<p>Based on our work in the task above, it looks like the early 1990s might merit consideration as the golden age of video games based on <code>critic_score</code> alone, but we'd need to gather more games and reviews data to do further analysis. </p>\n",
        "<p>Let's move on to looking at the opinions of another important group of people: players! To begin, let's create a query very similar to the one we used in Task Four, except this one will look at <code>user_score</code> averages by year rather than <code>critic_score</code> averages.</p>"
      ]
    },
    {
      "metadata": {
        "dc": {
          "key": "42"
        },
        "tags": [
          "sample_code"
        ],
        "trusted": true,
        "id": "SAsaE0UHitSz",
        "outputId": "f57d54d1-7ea9-46ab-a338-59db0c2b0018"
      },
      "cell_type": "code",
      "source": [
        "%%sql \n",
        "\n",
        "-- Select year, an average of user_score, and a count of games released in a given year, aliased and rounded\n",
        "-- Include only years with more than four reviewed games; group data by year\n",
        "-- Order data by avg_user_score, and limit to ten results\n",
        "select game_sales.year,count(game_sales.game) as num_games,\n",
        "avg(reviews.user_score) as  avg_user_score\n",
        "from game_sales \n",
        "inner join reviews\n",
        "on game_sales.game = reviews.game\n",
        "group by game_sales.year \n",
        "HAVING count(game_sales.game) >4\n",
        "order by avg_user_score desc \n",
        "limit 10;"
      ],
      "execution_count": null,
      "outputs": [
        {
          "output_type": "stream",
          "text": " * postgresql:///games\n10 rows affected.\n",
          "name": "stdout"
        },
        {
          "output_type": "execute_result",
          "execution_count": 258,
          "data": {
            "text/plain": "[(1997, 8, Decimal('9.5000000000000000')),\n (1998, 10, Decimal('9.4000000000000000')),\n (2010, 23, Decimal('9.2400000000000000')),\n (2009, 20, Decimal('9.1777777777777778')),\n (2008, 20, Decimal('9.0272727272727273')),\n (1996, 5, Decimal('9.0000000000000000')),\n (2005, 13, Decimal('8.9500000000000000')),\n (2006, 16, Decimal('8.9500000000000000')),\n (2000, 8, Decimal('8.8000000000000000')),\n (1999, 11, Decimal('8.8000000000000000'))]",
            "text/html": "<table>\n    <thead>\n        <tr>\n            <th>year</th>\n            <th>num_games</th>\n            <th>avg_user_score</th>\n        </tr>\n    </thead>\n    <tbody>\n        <tr>\n            <td>1997</td>\n            <td>8</td>\n            <td>9.5000000000000000</td>\n        </tr>\n        <tr>\n            <td>1998</td>\n            <td>10</td>\n            <td>9.4000000000000000</td>\n        </tr>\n        <tr>\n            <td>2010</td>\n            <td>23</td>\n            <td>9.2400000000000000</td>\n        </tr>\n        <tr>\n            <td>2009</td>\n            <td>20</td>\n            <td>9.1777777777777778</td>\n        </tr>\n        <tr>\n            <td>2008</td>\n            <td>20</td>\n            <td>9.0272727272727273</td>\n        </tr>\n        <tr>\n            <td>1996</td>\n            <td>5</td>\n            <td>9.0000000000000000</td>\n        </tr>\n        <tr>\n            <td>2005</td>\n            <td>13</td>\n            <td>8.9500000000000000</td>\n        </tr>\n        <tr>\n            <td>2006</td>\n            <td>16</td>\n            <td>8.9500000000000000</td>\n        </tr>\n        <tr>\n            <td>2000</td>\n            <td>8</td>\n            <td>8.8000000000000000</td>\n        </tr>\n        <tr>\n            <td>1999</td>\n            <td>11</td>\n            <td>8.8000000000000000</td>\n        </tr>\n    </tbody>\n</table>"
          },
          "metadata": {}
        }
      ]
    },
    {
      "metadata": {
        "dc": {
          "key": "49"
        },
        "deletable": false,
        "editable": false,
        "run_control": {
          "frozen": true
        },
        "tags": [
          "context"
        ],
        "id": "kQzpjqlpitSz"
      },
      "cell_type": "markdown",
      "source": [
        "## 7. Years that both players and critics loved\n",
        "<p>Alright, we've got a list of the top ten years according to both critic reviews and user reviews. Are there any years that showed up on both tables? If so, those years would certainly be excellent ones!</p>\n",
        "<p>Recall that we have access to the <code>top_critic_years_more_than_four_games</code> table, which stores the results of our top critic years query from Task 4:</p>\n",
        "<h3 id=\"top_critic_years_more_than_four_games\"><code>top_critic_years_more_than_four_games</code></h3>\n",
        "<table>\n",
        "<thead>\n",
        "<tr>\n",
        "<th style=\"text-align:left;\">column</th>\n",
        "<th>type</th>\n",
        "<th>meaning</th>\n",
        "</tr>\n",
        "</thead>\n",
        "<tbody>\n",
        "<tr>\n",
        "<td style=\"text-align:left;\"><code>year</code></td>\n",
        "<td>int</td>\n",
        "<td>Year of video game release</td>\n",
        "</tr>\n",
        "<tr>\n",
        "<td style=\"text-align:left;\"><code>num_games</code></td>\n",
        "<td>int</td>\n",
        "<td>Count of the number of video games released in that year</td>\n",
        "</tr>\n",
        "<tr>\n",
        "<td style=\"text-align:left;\"><code>avg_critic_score</code></td>\n",
        "<td>float</td>\n",
        "<td>Average of all critic scores for games released in that year</td>\n",
        "</tr>\n",
        "</tbody>\n",
        "</table>\n",
        "<p>We've also saved the results of our top user years query from the previous task into a table:</p>\n",
        "<h3 id=\"top_user_years_more_than_four_games\"><code>top_user_years_more_than_four_games</code></h3>\n",
        "<table>\n",
        "<thead>\n",
        "<tr>\n",
        "<th style=\"text-align:left;\">column</th>\n",
        "<th>type</th>\n",
        "<th>meaning</th>\n",
        "</tr>\n",
        "</thead>\n",
        "<tbody>\n",
        "<tr>\n",
        "<td style=\"text-align:left;\"><code>year</code></td>\n",
        "<td>int</td>\n",
        "<td>Year of video game release</td>\n",
        "</tr>\n",
        "<tr>\n",
        "<td style=\"text-align:left;\"><code>num_games</code></td>\n",
        "<td>int</td>\n",
        "<td>Count of the number of video games released in that year</td>\n",
        "</tr>\n",
        "<tr>\n",
        "<td style=\"text-align:left;\"><code>avg_user_score</code></td>\n",
        "<td>float</td>\n",
        "<td>Average of all user scores for games released in that year</td>\n",
        "</tr>\n",
        "</tbody>\n",
        "</table>"
      ]
    },
    {
      "metadata": {
        "dc": {
          "key": "49"
        },
        "tags": [
          "sample_code"
        ],
        "trusted": true,
        "id": "Ci3kZMx_itSz",
        "outputId": "12c9b194-089d-4cdd-bc4a-311e4aedd074"
      },
      "cell_type": "code",
      "source": [
        "%%sql \n",
        "\n",
        "-- Select the year results that appear on both tables\n",
        "select t1.year from top_critic_years_more_than_four_games as t1\n",
        "intersect\n",
        "select t2.year from top_user_years_more_than_four_games as t2;"
      ],
      "execution_count": null,
      "outputs": [
        {
          "output_type": "stream",
          "text": " * postgresql:///games\n3 rows affected.\n",
          "name": "stdout"
        },
        {
          "output_type": "execute_result",
          "execution_count": 260,
          "data": {
            "text/plain": "[(1998,), (2008,), (2002,)]",
            "text/html": "<table>\n    <thead>\n        <tr>\n            <th>year</th>\n        </tr>\n    </thead>\n    <tbody>\n        <tr>\n            <td>1998</td>\n        </tr>\n        <tr>\n            <td>2008</td>\n        </tr>\n        <tr>\n            <td>2002</td>\n        </tr>\n    </tbody>\n</table>"
          },
          "metadata": {}
        }
      ]
    },
    {
      "metadata": {
        "dc": {
          "key": "56"
        },
        "deletable": false,
        "editable": false,
        "run_control": {
          "frozen": true
        },
        "tags": [
          "context"
        ],
        "id": "bZJxILvoitS0"
      },
      "cell_type": "markdown",
      "source": [
        "## 8. Sales in the best video game years\n",
        "<p>Looks like we've got three years that both users and critics agreed were in the top ten! There are many other ways of measuring what the best years for video games are, but let's stick with these years for now. We know that critics and players liked these years, but what about video game makers? Were sales good? Let's find out.</p>\n",
        "<p>This time, we haven't saved the results from the previous task in a table for you. Instead, we'll use the query from the previous task as a subquery in this one! This is a great skill to have, as we don't always have write permissions on the database we are querying.</p>"
      ]
    },
    {
      "metadata": {
        "dc": {
          "key": "56"
        },
        "tags": [
          "sample_code"
        ],
        "trusted": true,
        "id": "mmpZFPy6itS0",
        "outputId": "6085ba20-3e73-4d0c-c271-d61adbd34e2a"
      },
      "cell_type": "code",
      "source": [
        "%%sql \n",
        "\n",
        "-- Select year and sum of games_sold, aliased as total_games_sold; order results by total_games_sold descending\n",
        "-- Filter game_sales based on whether each year is in the list returned in the previous task\n",
        "select t3.year ,sum(t3.games_sold) as total_games_sold from game_sales as t3 \n",
        "where year in(\n",
        "select t1.year from top_critic_years_more_than_four_games as t1\n",
        "intersect\n",
        "select t2.year from top_user_years_more_than_four_games as t2\n",
        ")\n",
        "group by t3.year\n",
        "order by total_games_sold desc;"
      ],
      "execution_count": null,
      "outputs": [
        {
          "output_type": "stream",
          "text": " * postgresql:///games\n3 rows affected.\n",
          "name": "stdout"
        },
        {
          "output_type": "execute_result",
          "execution_count": 262,
          "data": {
            "text/plain": "[(2008, Decimal('175.07')),\n (1998, Decimal('101.52')),\n (2002, Decimal('58.67'))]",
            "text/html": "<table>\n    <thead>\n        <tr>\n            <th>year</th>\n            <th>total_games_sold</th>\n        </tr>\n    </thead>\n    <tbody>\n        <tr>\n            <td>2008</td>\n            <td>175.07</td>\n        </tr>\n        <tr>\n            <td>1998</td>\n            <td>101.52</td>\n        </tr>\n        <tr>\n            <td>2002</td>\n            <td>58.67</td>\n        </tr>\n    </tbody>\n</table>"
          },
          "metadata": {}
        }
      ]
    },
    {
      "metadata": {
        "dc": {
          "key": "56"
        },
        "trusted": true,
        "collapsed": true,
        "id": "vAuLDBiPitS0"
      },
      "cell_type": "code",
      "source": [],
      "execution_count": null,
      "outputs": []
    },
    {
      "metadata": {
        "dc": {
          "key": "56"
        },
        "trusted": true,
        "collapsed": true,
        "id": "2hvKJcPeitS0"
      },
      "cell_type": "code",
      "source": [],
      "execution_count": null,
      "outputs": []
    }
  ],
  "metadata": {
    "kernelspec": {
      "name": "python3",
      "display_name": "Python 3",
      "language": "python"
    },
    "language_info": {
      "name": "python",
      "version": "3.6.7",
      "mimetype": "text/x-python",
      "codemirror_mode": {
        "name": "ipython",
        "version": 3
      },
      "pygments_lexer": "ipython3",
      "nbconvert_exporter": "python",
      "file_extension": ".py"
    },
    "colab": {
      "provenance": [],
      "include_colab_link": true
    }
  },
  "nbformat": 4,
  "nbformat_minor": 0
}